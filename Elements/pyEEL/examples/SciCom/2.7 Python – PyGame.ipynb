{
 "cells": [
  {
   "attachments": {},
   "cell_type": "markdown",
   "metadata": {},
   "source": [
    "# Python: Using other python packages - pyGame example"
   ]
  },
  {
   "attachments": {},
   "cell_type": "markdown",
   "metadata": {},
   "source": [
    "### *Copyright 2021-today Dr. George Papagiannakis,  papagian@csd.uoc.gr*\n",
    "*All Rights Reserved*\n",
    "### *University of Crete & Foundation for Research & Technology - Hellas (FORTH)*\n",
    "\n",
    "This notebook is also based on parts of [Lectures on scientific computing with Python](http://github.com/jrjohansson/scientific-python-lectures) by [J.R. Johansson](http://jrjohansson.github.io). \n",
    "\n",
    "---"
   ]
  },
  {
   "attachments": {},
   "cell_type": "markdown",
   "metadata": {},
   "source": [
    "## An example using the pyGame package"
   ]
  },
  {
   "cell_type": "code",
   "execution_count": 1,
   "metadata": {},
   "outputs": [
    {
     "name": "stdout",
     "output_type": "stream",
     "text": [
      "pygame 2.3.0 (SDL 2.24.2, Python 3.8.15)\n",
      "Hello from the pygame community. https://www.pygame.org/contribute.html\n"
     ]
    }
   ],
   "source": [
    "import pygame\n",
    "import random\n",
    "import os \n",
    "from pygame.locals import *"
   ]
  },
  {
   "cell_type": "code",
   "execution_count": 2,
   "metadata": {},
   "outputs": [],
   "source": [
    "pygame.init()\n",
    "FPS = 60\n",
    "fpsClock = pygame.time.Clock()\n",
    "WIDTH, HEIGHT = 800, 600\n",
    "win = pygame.display.set_mode((WIDTH, HEIGHT))\n",
    "pygame.display.set_caption(\"Simple Shoot-em-up Game\")"
   ]
  },
  {
   "cell_type": "code",
   "execution_count": 3,
   "metadata": {},
   "outputs": [],
   "source": [
    "class Spaceship(pygame.sprite.Sprite):\n",
    "    def __init__(self, x, y):\n",
    "        super().__init__()\n",
    "        self.image = pygame.Surface((50, 30))\n",
    "        self.image.fill((0, 255, 0))\n",
    "        self.rect = self.image.get_rect()\n",
    "        self.rect.x = x\n",
    "        self.rect.y = y\n",
    "\n",
    "    def update(self):\n",
    "        keys = pygame.key.get_pressed()\n",
    "        if keys[K_LEFT]:\n",
    "            self.rect.x -= 5\n",
    "        if keys[K_RIGHT]:\n",
    "            self.rect.x += 5\n",
    "        if keys[K_UP]:\n",
    "            self.rect.y -= 5\n",
    "        if keys[K_DOWN]:\n",
    "            self.rect.y += 5\n",
    "\n",
    "\n",
    "class Enemy(pygame.sprite.Sprite):\n",
    "    def __init__(self):\n",
    "        super().__init__()\n",
    "        self.image = pygame.Surface((30, 20))\n",
    "        self.image.fill((255, 0, 0))\n",
    "        self.rect = self.image.get_rect()\n",
    "        self.rect.x = random.randint(0, WIDTH - self.rect.width)\n",
    "        self.rect.y = -self.rect.height\n",
    "\n",
    "    def update(self):\n",
    "        self.rect.y += 3\n",
    "        if self.rect.y > HEIGHT:\n",
    "            self.kill()\n",
    "\n",
    "\n",
    "class Bullet(pygame.sprite.Sprite):\n",
    "    def __init__(self, x, y):\n",
    "        super().__init__()\n",
    "        self.image = pygame.Surface((5, 15))\n",
    "        self.image.fill((255, 255, 0))\n",
    "        self.rect = self.image.get_rect()\n",
    "        self.rect.x = x\n",
    "        self.rect.y = y\n",
    "\n",
    "    def update(self):\n",
    "        self.rect.y -= 10\n",
    "        if self.rect.y < -self.rect.height:\n",
    "            self.kill()\n",
    "\n"
   ]
  },
  {
   "cell_type": "code",
   "execution_count": 4,
   "metadata": {},
   "outputs": [],
   "source": [
    "all_sprites = pygame.sprite.Group()\n",
    "enemies = pygame.sprite.Group()\n",
    "bullets = pygame.sprite.Group()\n",
    "\n",
    "\n",
    "spaceship = Spaceship(WIDTH // 2, HEIGHT - 60)\n",
    "all_sprites.add(spaceship)\n"
   ]
  },
  {
   "cell_type": "code",
   "execution_count": 5,
   "metadata": {},
   "outputs": [
    {
     "name": "stderr",
     "output_type": "stream",
     "text": [
      "2023-03-26 22:57:02.790 python[74551:1470510] TSM AdjustCapsLockLEDForKeyTransitionHandling - _ISSetPhysicalKeyboardCapsLockLED Inhibit\n"
     ]
    }
   ],
   "source": [
    "running = True\n",
    "while running:\n",
    "    win.fill((0, 0, 0))\n",
    "\n",
    "    # Spawn enemies\n",
    "    if random.random() < 0.02:\n",
    "        enemy = Enemy()\n",
    "        all_sprites.add(enemy)\n",
    "        enemies.add(enemy)\n",
    "\n",
    "    # Check for collisions\n",
    "    collided = pygame.sprite.spritecollide(spaceship, enemies, True)\n",
    "    collisions = pygame.sprite.groupcollide(bullets, enemies, True, True)\n",
    "    \n",
    "    # play a sound if there was a collision\n",
    "    #for bullet, enemy_list in collisions.items():\n",
    "        #os.system(\"afplay /System/Library/Sounds/Tink.aiff\")\n",
    "    \n",
    "    if collisions:\n",
    "        #sound = pygame.mixer.Sound('explosion.wav')\n",
    "        pass\n",
    "    if collided:\n",
    "        running = False\n",
    "\n",
    "    # Event handling\n",
    "    for event in pygame.event.get():\n",
    "        if event.type == QUIT:\n",
    "            running = False\n",
    "        if event.type == KEYDOWN and event.key == K_SPACE:\n",
    "            bullet = Bullet(spaceship.rect.x + spaceship.rect.width // 2 - 2, spaceship.rect.y)\n",
    "            all_sprites.add(bullet)\n",
    "            bullets.add(bullet)\n",
    "\n",
    "\n",
    "    # Update and draw sprites\n",
    "    all_sprites.update()\n",
    "    all_sprites.draw(win)\n",
    "\n",
    "    pygame.display.flip()\n",
    "    fpsClock.tick(FPS)\n",
    "\n",
    "pygame.quit()\n"
   ]
  },
  {
   "cell_type": "code",
   "execution_count": 6,
   "metadata": {},
   "outputs": [
    {
     "data": {
      "application/json": {
       "Software versions": [
        {
         "module": "Python",
         "version": "3.8.15 64bit [Clang 14.0.6 ]"
        },
        {
         "module": "IPython",
         "version": "8.6.0"
        },
        {
         "module": "OS",
         "version": "macOS 13.2.1 arm64 arm 64bit"
        }
       ]
      },
      "text/html": [
       "<table><tr><th>Software</th><th>Version</th></tr><tr><td>Python</td><td>3.8.15 64bit [Clang 14.0.6 ]</td></tr><tr><td>IPython</td><td>8.6.0</td></tr><tr><td>OS</td><td>macOS 13.2.1 arm64 arm 64bit</td></tr><tr><td colspan='2'>Sun Mar 26 22:57:11 2023 CEST</td></tr></table>"
      ],
      "text/latex": [
       "\\begin{tabular}{|l|l|}\\hline\n",
       "{\\bf Software} & {\\bf Version} \\\\ \\hline\\hline\n",
       "Python & 3.8.15 64bit [Clang 14.0.6 ] \\\\ \\hline\n",
       "IPython & 8.6.0 \\\\ \\hline\n",
       "OS & macOS 13.2.1 arm64 arm 64bit \\\\ \\hline\n",
       "\\hline \\multicolumn{2}{|l|}{Sun Mar 26 22:57:11 2023 CEST} \\\\ \\hline\n",
       "\\end{tabular}\n"
      ],
      "text/plain": [
       "Software versions\n",
       "Python 3.8.15 64bit [Clang 14.0.6 ]\n",
       "IPython 8.6.0\n",
       "OS macOS 13.2.1 arm64 arm 64bit\n",
       "Sun Mar 26 22:57:11 2023 CEST"
      ]
     },
     "execution_count": 6,
     "metadata": {},
     "output_type": "execute_result"
    },
    {
     "ename": "",
     "evalue": "",
     "output_type": "error",
     "traceback": [
      "\u001b[1;31mThe Kernel crashed while executing code in the the current cell or a previous cell. Please review the code in the cell(s) to identify a possible cause of the failure. Click <a href='https://aka.ms/vscodeJupyterKernelCrash'>here</a> for more info. View Jupyter <a href='command:jupyter.viewOutput'>log</a> for further details."
     ]
    }
   ],
   "source": [
    "%load_ext version_information\n",
    "\n",
    "%version_information"
   ]
  },
  {
   "cell_type": "code",
   "execution_count": null,
   "metadata": {},
   "outputs": [],
   "source": []
  }
 ],
 "metadata": {
  "kernelspec": {
   "display_name": "Elements38",
   "language": "python",
   "name": "python3"
  },
  "language_info": {
   "codemirror_mode": {
    "name": "ipython",
    "version": 3
   },
   "file_extension": ".py",
   "mimetype": "text/x-python",
   "name": "python",
   "nbconvert_exporter": "python",
   "pygments_lexer": "ipython3",
   "version": "3.8.15"
  }
 },
 "nbformat": 4,
 "nbformat_minor": 1
}
